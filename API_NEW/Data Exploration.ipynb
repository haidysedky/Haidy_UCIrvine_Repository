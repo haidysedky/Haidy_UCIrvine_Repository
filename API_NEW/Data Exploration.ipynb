{
 "cells": [
  {
   "cell_type": "code",
   "execution_count": 2,
   "metadata": {},
   "outputs": [],
   "source": [
    "import requests\n",
    "import json\n",
    "import pandas as pd\n",
    "from config import api_key "
   ]
  },
  {
   "cell_type": "code",
   "execution_count": 3,
   "metadata": {},
   "outputs": [],
   "source": [
    "base_url = 'https://openapi.etsy.com/v2'\n",
    "categories_url = base_url + '/taxonomy/categories?api_key=' + api_key"
   ]
  },
  {
   "cell_type": "code",
   "execution_count": 4,
   "metadata": {},
   "outputs": [],
   "source": [
    "categories_response = requests.get(categories_url).json()"
   ]
  },
  {
   "cell_type": "code",
   "execution_count": 5,
   "metadata": {},
   "outputs": [],
   "source": [
    "categories=[]\n",
    "for text in categories_response[\"results\"]:\n",
    "    categories.append({\"Category ID\" : text[\"category_id\"],\n",
    "                       \"Name\": text[\"name\"],\n",
    "                       \"Category Name\": text[\"category_name\"],\n",
    "                       \"Short Name\": text[\"short_name\"],\n",
    "                       \"Long Name\": text[\"long_name\"],\n",
    "                       \"Keywords\" : text[\"meta_keywords\"]\n",
    "                      })"
   ]
  },
  {
   "cell_type": "code",
   "execution_count": 6,
   "metadata": {},
   "outputs": [],
   "source": [
    "categories_df = pd.DataFrame(categories)\n",
    "#categories_df.head()"
   ]
  },
  {
   "cell_type": "code",
   "execution_count": 7,
   "metadata": {},
   "outputs": [],
   "source": [
    "#categories_df.loc[categories_df[\"Category Name\"]==\"jewelry\", :]\n",
    "categories_df.to_csv(\"AllTopCategories.csv\")"
   ]
  },
  {
   "cell_type": "code",
   "execution_count": 8,
   "metadata": {},
   "outputs": [],
   "source": [
    "subcategory_url = base_url + '/taxonomy/categories/jewelry?api_key='+api_key\n",
    "subcategories_response = requests.get(subcategory_url).json()"
   ]
  },
  {
   "cell_type": "code",
   "execution_count": 9,
   "metadata": {},
   "outputs": [],
   "source": [
    "jewelry_subcategories=[]\n",
    "for text in subcategories_response[\"results\"]:\n",
    "    jewelry_subcategories.append({\"Category ID\" : text[\"category_id\"],\n",
    "                       \"Name\": text[\"name\"],\n",
    "                       \"Category Name\": text[\"category_name\"],\n",
    "                       \"Short Name\": text[\"short_name\"],\n",
    "                       \"Long Name\": text[\"long_name\"],\n",
    "                       \"Keywords\" : text[\"meta_keywords\"]\n",
    "                      })\n",
    "subcategories_df = pd.DataFrame(jewelry_subcategories)"
   ]
  },
  {
   "cell_type": "code",
   "execution_count": 10,
   "metadata": {},
   "outputs": [
    {
     "data": {
      "text/plain": [
       "0    jewelry/bracelet\n",
       "1    jewelry/earrings\n",
       "2    jewelry/necklace\n",
       "3      jewelry/anklet\n",
       "4      jewelry/brooch\n",
       "5        jewelry/ring\n",
       "6     jewelry/pendant\n",
       "7    jewelry/piercing\n",
       "Name: Category Name, dtype: object"
      ]
     },
     "execution_count": 10,
     "metadata": {},
     "output_type": "execute_result"
    }
   ],
   "source": [
    "subcategories_df.loc[(subcategories_df['Category Name'] == 'jewelry/bracelet')|(subcategories_df['Category Name'] == 'jewelry/earrings')| (subcategories_df['Category Name'] == 'jewelry/necklace'),]  \n",
    "subcategories_df[\"Category Name\"]"
   ]
  },
  {
   "cell_type": "code",
   "execution_count": 11,
   "metadata": {},
   "outputs": [],
   "source": [
    "sub_subcategories = []\n",
    "for x in subcategories_df[\"Category Name\"]:\n",
    "    sub_subcategories_url = base_url+ '/taxonomy/categories/' + x + '?api_key=' + api_key\n",
    "    sub_subcategories_response =requests.get(sub_subcategories_url).json()\n",
    "    for z in sub_subcategories_response[\"results\"]:\n",
    "        sub_subcategories.append(z[\"category_name\"])"
   ]
  },
  {
   "cell_type": "code",
   "execution_count": 12,
   "metadata": {},
   "outputs": [
    {
     "name": "stdout",
     "output_type": "stream",
     "text": [
      "NA\n"
     ]
    }
   ],
   "source": [
    "###TOP 25 LISTINGS BY SCORE PER JEWELRY SUBCATEGORIES###\n",
    "listings=[]\n",
    "for y in sub_subcategories:\n",
    "    listings_url = base_url + '/listings/active?category='+ y +'&sort_on=score&sort_order=down&api_key=' + api_key \n",
    "    jewelry_listings = requests.get(listings_url).json()\n",
    "    for text in jewelry_listings[\"results\"]:\n",
    "        try:\n",
    "            listings.append({\"Id\" : text[\"listing_id\"],\n",
    "                            \"Title\": text[\"title\"],\n",
    "                            \"Price\": text[\"price\"],\n",
    "                            \"Currency\": text[\"currency_code\"],\n",
    "                            \"Tags\": text[\"tags\"],\n",
    "                            \"Categories\" : text[\"category_path\"],\n",
    "                            \"Quantity\": text[\"quantity\"],\n",
    "                            \"Favorites Number\": text[\"num_favorers\"],\n",
    "                            \"Number of Views\":text[\"views\"],\n",
    "                            \"Is Digital\": text[\"is_digital\"],\n",
    "                            \"Is Supply\": text[\"is_supply\"],\n",
    "                            \"Is Private\": text[\"is_private\"],\n",
    "                            \"Processing Days Min\":text[\"processing_min\"],\n",
    "                            \"Processing Days Max\":text[\"processing_max\"],\n",
    "                            \"Style\": text[\"style\"]\n",
    "                            })\n",
    "        except KeyError:\n",
    "            print('NA')"
   ]
  },
  {
   "cell_type": "code",
   "execution_count": 14,
   "metadata": {},
   "outputs": [],
   "source": [
    "listings_df = pd.DataFrame(listings)\n",
    "listings_df.to_csv(\"Top25ListingsinJewelryByScore.csv\")"
   ]
  },
  {
   "cell_type": "code",
   "execution_count": 51,
   "metadata": {},
   "outputs": [
    {
     "data": {
      "text/plain": [
       "3063"
      ]
     },
     "execution_count": 51,
     "metadata": {},
     "output_type": "execute_result"
    }
   ],
   "source": [
    "len(listings_df[\"Categories\"])"
   ]
  },
  {
   "cell_type": "code",
   "execution_count": null,
   "metadata": {},
   "outputs": [],
   "source": []
  }
 ],
 "metadata": {
  "kernelspec": {
   "display_name": "Python [conda env:PythonData]",
   "language": "python",
   "name": "conda-env-PythonData-py"
  },
  "language_info": {
   "codemirror_mode": {
    "name": "ipython",
    "version": 3
   },
   "file_extension": ".py",
   "mimetype": "text/x-python",
   "name": "python",
   "nbconvert_exporter": "python",
   "pygments_lexer": "ipython3",
   "version": "3.6.5"
  }
 },
 "nbformat": 4,
 "nbformat_minor": 2
}
