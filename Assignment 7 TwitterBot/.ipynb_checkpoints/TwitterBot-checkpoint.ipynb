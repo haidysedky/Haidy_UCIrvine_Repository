{
 "cells": [
  {
   "cell_type": "code",
   "execution_count": 1,
   "metadata": {},
   "outputs": [],
   "source": [
    "#Dependencies\n",
    "%matplotlib notebook\n",
    "import pandas as pd\n",
    "import matplotlib.pyplot as plt\n",
    "import tweepy\n",
    "import json\n",
    "import time\n",
    "import datetime\n",
    "from vaderSentiment.vaderSentiment import SentimentIntensityAnalyzer\n",
    "from config import consumer_key, consumer_secret, access_token, access_token_secret\n",
    "analyzer=SentimentIntensityAnalyzer()"
   ]
  },
  {
   "cell_type": "code",
   "execution_count": 2,
   "metadata": {},
   "outputs": [],
   "source": [
    "#Auth for twitter\n",
    "auth = tweepy.OAuthHandler(consumer_key,consumer_secret)\n",
    "auth.set_access_token(access_token,access_token_secret)\n",
    "api = tweepy.API(auth, parser=tweepy.parsers.JSONParser())\n",
    "#Add a tweet mentioning the plotbot(myself) to analyze the CNN data\n",
    "#api.update_status(\"@Haidy40802912 Analyze: @CNN\")\n",
    "targets_list=[]"
   ]
  },
  {
   "cell_type": "code",
   "execution_count": 3,
   "metadata": {},
   "outputs": [],
   "source": [
    "#Define a Function to Retrive the latest 500 tweets for the target user and post them to\n",
    "#(Plotbot \"considered it Drishti_Y_UCI\" cause Plotbot doesn't follow me) \n",
    "def iterate_tweets_target_user(target_user_to_be_defined,target_ordered_by, mentioned_bot_to_define):\n",
    "    target_user = \"@\" +target_user_to_be_defined\n",
    "    date=[]\n",
    "    tweets_ago=[]\n",
    "    results_compound=[]\n",
    "    oldest_tweet=None\n",
    "    counter=-1\n",
    "\n",
    "    for x in range (1,6):\n",
    "        public_tweets = api.user_timeline(target_user, count=100, max_id=oldest_tweet)\n",
    "        for tweet in public_tweets:\n",
    "            date.append(tweet[\"created_at\"])\n",
    "            tweets_ago.append(counter)\n",
    "            results = analyzer.polarity_scores(tweet[\"text\"])\n",
    "            results_compound.append(results[\"compound\"])\n",
    "            oldest_tweet = tweet[\"id\"]-1\n",
    "            counter-=1\n",
    "    Sentiment_Analysis = pd.DataFrame({\"Date\":date,\n",
    "                                   \"Tweets_ago\":tweets_ago,\n",
    "                                   \"Tweets_Polarity\":results_compound})\n",
    "    todays_date= (datetime.datetime.now()).strftime(\"%m/%d/%Y\")\n",
    "    x_min= Sentiment_Analysis[\"Tweets_ago\"].min()\n",
    "    x_max=Sentiment_Analysis[\"Tweets_ago\"].max()+1\n",
    "    fig1, ax1=plt.subplots()\n",
    "    ax1.plot(Sentiment_Analysis[\"Tweets_ago\"],Sentiment_Analysis[\"Tweets_Polarity\"],alpha=0.8,marker=\"o\",linewidth=0.5,color=\"steelblue\")\n",
    "    ax1.grid(True, color='white')\n",
    "    ax1.set_facecolor('lightgrey')\n",
    "    plt.xlabel(\"Tweets Ago\")\n",
    "    plt.ylabel(\"Tweets Polarity\")\n",
    "    plt.title(f\"Sentiment Analysis of Tweets ({todays_date})\")\n",
    "    plt.xlim(x_min,x_max)\n",
    "    plt.legend(fontsize=5, mode=\"Expanded\",labelspacing=0.5, bbox_to_anchor=(1,0.7), labels=[\"Tweets\" + \"\\n\"+f\"@{target_ordered_by}\"])\n",
    "    plt.show()\n",
    "    plt.savefig(\"SentimentAnalysisofTweets.png\")\n",
    "    api.update_with_media(\"SentimentAnalysisofTweets.png\",f\"Hi @{mentioned_bot} ; Kindly find below the sentiment analysis for @{latest_mention_tweets_target}\")"
   ]
  },
  {
   "cell_type": "code",
   "execution_count": 7,
   "metadata": {},
   "outputs": [
    {
     "name": "stdout",
     "output_type": "stream",
     "text": [
      "Already Analyzed this Target Subject before\n"
     ]
    }
   ],
   "source": [
    "#Check information in my account for mentions in a specific format of (\" Analyze: @CNN\") I used \"Drishti's account\" as PlotBot\n",
    "#Since Plotbot is not following me yet\n",
    "mention_tweets = api.user_timeline(\"@Haidy40802912\")\n",
    "string_to_look_for =  \"Analyze:\"\n",
    "\n",
    "#while(True):\n",
    "for tweet in mention_tweets:\n",
    "    if string_to_look_for in tweet[\"text\"]:\n",
    "        latest_mention_tweets_target = mention_tweets[0][\"entities\"][\"user_mentions\"][-1][\"screen_name\"]\n",
    "        if latest_mention_tweets_target not in targets_list:\n",
    "            #not to re-analyze the targets already analyzed\n",
    "            targets_list.append(latest_mention_tweets_target)\n",
    "            target_ordered_from = mention_tweets[0][\"user\"][\"screen_name\"]\n",
    "            mentioned_bot = mention_tweets[0][\"entities\"][\"user_mentions\"][0][\"screen_name\"]\n",
    "            iterate_tweets_target_user(latest_mention_tweets_target,target_ordered_from,mentioned_bot)\n",
    "            break\n",
    "        else:\n",
    "            print(\"Already Analyzed this Target Subject before\")\n",
    "    else: \n",
    "        skip=True\n",
    "#time.sleep(300)"
   ]
  },
  {
   "cell_type": "code",
   "execution_count": null,
   "metadata": {},
   "outputs": [],
   "source": []
  }
 ],
 "metadata": {
  "kernelspec": {
   "display_name": "Python [conda env:PythonData]",
   "language": "python",
   "name": "conda-env-PythonData-py"
  },
  "language_info": {
   "codemirror_mode": {
    "name": "ipython",
    "version": 3
   },
   "file_extension": ".py",
   "mimetype": "text/x-python",
   "name": "python",
   "nbconvert_exporter": "python",
   "pygments_lexer": "ipython3",
   "version": "3.6.5"
  }
 },
 "nbformat": 4,
 "nbformat_minor": 2
}
